{
 "cells": [
  {
   "cell_type": "code",
   "execution_count": 2,
   "metadata": {},
   "outputs": [
    {
     "name": "stdout",
     "output_type": "stream",
     "text": [
      "dict_keys(['feed', 'entries', 'bozo', 'headers', 'etag', 'updated', 'updated_parsed', 'href', 'status', 'encoding', 'version', 'namespaces'])\n",
      "dict_keys(['title', 'title_detail', 'links', 'link', 'summary', 'summary_detail', 'published', 'published_parsed', 'authors', 'author', 'author_detail', 'id', 'guidislink', 'media_content'])\n",
      "For 30 years that it has been in Hong Kong, Ince &amp; Co. &ndash; one of the UK&rsquo;s top maritime law firms with a history that stretches back to 1870 &ndash; has always had its place in the city&rsquo;s central business district.\n",
      "Ince, which opened its first Asia office in 1979, has also witnessed Hong Kong&rsquo;s maritime rise as the world&rsquo;s largest container port, and only to loose the glory to Shenzhen and Shanghai.\n",
      "But the changing tide hit home harder last November when the...\n",
      "\n",
      "Hong Kong has announced the second set of mortgage-tightening measures in a week to cool a property market that has broken records, taking aim at borrowers with multiple loans and whose income sources come from outside the city in an attempt to reduce banks&rsquo; credit risks.\n",
      "\n",
      "Starting immediately, banks must allocate a larger risk weighting toward their assessment of credit worthiness, while cutting the amount of allowable loans on residential and commercial properties, according to a...\n",
      "\n",
      "Chinese developers are continuing their aggressive overseas shopping spree with two firms jointly snapping up a land plot in Singapore for S$1 billion (US$720 million), setting a new record for the island-state.\n",
      "Hong Kong-listed Shenzhen developer Logan Property Holdings and Shandong-based Nanshan Group beat 12 other bidders in a government land sale to jointly win a 954,000 square foot plot on Stirling Road, according to a statement from Singapore&rsquo;s Urban Redevelopment Authority on...\n",
      "\n",
      "The Shanghai authorities have called off the approval of any new apartments to be built on land designated for commercial use, their latest measure in response to a broader campaign to curb the red-hot property market in China&rsquo;s biggest cities.\n",
      "According to a document released by the Shanghai housing authorities, any planned residential projects converted from offices and shops will not be granted sales approval, while the relevant departments will re-examine cases where the projects have...\n",
      "\n",
      "The growth of home prices in China cooled again in April, after a brief uptick in March, as tougher market restrictions introduced by local governments took effect.\n",
      "New home prices rose on a monthly basis in six of the 15 first- and second-tier cities that are closely monitored by the National Bureau of Statistics, according to figures released on Thursday.That compared with nine in March.\n",
      "Of the 70 mainland cities tracked by the bureau, prices climbed in 58, down from 62 in March.\n",
      "New home...\n",
      "\n",
      "Henderson Land Development, owned by one of Hong Kong&rsquo;s wealthiest families, may have done a favour to every land owner in the Murray Road neighbourhood in downtown Central, when it paid a record price for the largest commercial plot to go on market in two decades.\n",
      "The record HK$23.28 billion (US$3 billion) price paid for the Murray Road land parcel, which topped professional valuers&rsquo; highest estimate by almost 6 per cent, would boost Cheung Kong Property Holdings&rsquo; net asset...\n",
      "\n",
      "Henderson Land Development, the property company owned by one of Hong Kong&rsquo;s wealthiest families, has bought the world&rsquo;s most expensive commercial land plot in downtown Central, beating out the mainland Chinese developers who had been dominating the city&rsquo;s real estate purchases in the past year.\n",
      "Henderson Land will pay a record HK$23.28 billion (US$3 billion) for the government&rsquo;s Murray Road commercial plot in Central, beating out eight rival bids, according to the Lands...\n",
      "\n",
      "China&rsquo;s largest property agents have quietly lowered their commission fees amid the worst property downturn since 2010 following unprecedented market cooling measures by government authorities.\n",
      "In Beijing Homelink, China&rsquo;s largest property agent, is offering rates below its 2.7 per cent commission fee in many cases. 5i5j, the second-largest agent, lowered its official rate from 2.1- 2.2 per cent to 1.9 per cent, according to interviews with individual agents and buyers in the city....\n",
      "\n",
      "Driving along Beijing&rsquo;s Dongdaqiao Road it&rsquo;s hard to ignore Parkview Green, with its iconic pyramid shape, funky glass wall and imposing sculptures at the entrance.\n",
      "The complex, which houses a shopping mall, boutique hotel and offices, is known in the expat community for its generous collections of artworks (here Salvador Dali&rsquo;s surreal works hang alongside Yue Minjun&rsquo;s signature Chinese contemporary art), fine gallery and attractive shops that can be found nowhere else...\n",
      "\n",
      "After a weak April, property sales in major Chinese cities continued to fall in the first half of May as local authorities intensified their campaign to close loopholes in existing cooling measures.\n",
      "Sales of new homes in Beijing in the second week of the month fell 9.7 per cent from the first week, and were down 22 per cent and 71 per cent from the average weekly sales in April and March, respectively. Shanghai&rsquo;s new home sales declined 12.8 per cent in the first week of May from the...\n",
      "\n",
      "As Hong Kong asset prices continue to break all-time highs, some of the city&rsquo;s richest families and listed firms are believed to be scrapping it out for trophy assets in one of London&rsquo;s most prestigious office locations: St James&rsquo;s Square, home to the headquarters of a number of well-known businesses including BP and Rio Tinto.\n",
      "\n",
      "The still-weak pound and higher yields are making property right across the UK capital highly attractive.\n",
      "\n",
      "The recent purchase of 3 St James...\n",
      "\n",
      "The Hong Kong banking regulator&rsquo;s move to dampen developers from providing generous mortgage schemes has created new business opportunities for non-banking institutions and money lenders.\n",
      "Ego Finance, one of the major finance companies in Hong Kong, said the new measures would generate more business opportunities for money lenders. With nearly 2,000 new units to come on stream for pre-sale, there is without doubt, a demand for loans.\n",
      "&ldquo;Home seekers still need to source financing when...\n",
      "\n",
      "The growing number of &ldquo;nano flats&rdquo;, flats with a usable size area under 160 sq ft, is spurring demand for self-storage facilities. However, storage operators have flagged a 30 per cent drop in available space for business in light of tightening warehouse regulations following a fatal fire in June 2016. These new guidelines have created murky waters for self-storage business owners and landlords. While safety is a priority, CBRE urges the government and operators to find a middle...\n",
      "\n",
      "Oliver Lai&rsquo;s work experience spans 20 years in real estate, media, marketing and other related industries. He has worked for many well-known companies such as Taipei 101 and Blockbuster BEI, among others. Since 2007, he has served as head of sales and marketing for Parkview Group, where he oversees Parkview Green Beijing as well as the group&rsquo;s other projects in Nanjing and Huizhou.\n",
      "Born in Taiwan, Lai earned an MBA from Royal Roads University, British Columbia, Canada.\n",
      "Can you...\n",
      "\n",
      "Beijing shows no signs of loosening its capital controls on overseas investments even as more Chinese firms pour into the European and American real estate markets.\n",
      "&ldquo;I don&rsquo;t see any relaxation of policies. They&rsquo;re still very strict,&rdquo; said Paul Guan, a partner with global law firm Paul Hastings, which specialises in advising Chinese institutional investors on outbound real estate investments.\n",
      "The firm recently represented China Minsheng Investment Group&rsquo;s property...\n",
      "\n",
      "Quarry Bay is quickly becoming Hong Kong&rsquo;s new hip business district, as mainland companies take over Central, and foreign firms leave in their droves.\n",
      "As mainlanders continue to swoop on trophy buildings in Central, foreign multinationals are relocating to the east of Hong Kong Island, and this &ldquo;decentralisation&rdquo; has been the prominent trend in the office market, say leading property agents.\n",
      "The latest findings from real estate services firm JLL show the total number of new...\n",
      "\n",
      "Hong Kong&rsquo;s property developers will face tougher restrictions on the amount of money they can borrow from banks under new measures to be introduced next month in a bid to protect lenders from risk.\n",
      "From June 1, all banks will be required to lower their caps on the amount they lend to developers for construction financing, according to a circular issued by the Hong Kong Monetary Authority (HKMA), the city&rsquo;s de facto central bank, on Friday.\n",
      "The HKMA says it is concerned about the...\n",
      "\n",
      "Mainland Chinese buyers had been setting one price record after another as they snapped up Hong Kong&rsquo;s commercial land and residential property for the past year.\n",
      "But as the city&rsquo;s government prepared to sell what could become the costliest land parcel in the city -- the first grade A commercial land site in downtown Central to go on the market in two decades -- mainland Chinese developers were nowhere to be seen, snared by a tightened remittance process that made it more difficult...\n",
      "\n",
      "The company belonging to Jared Kushner&rsquo;s family is pulling out of a presentation to investors in China following criticism that his sister invoked his work for his father-in-law, President Donald Trump, in a similar pitch last weekend.\n",
      "\n",
      "James Yolles, a Kushner Co spokesman, said Thursday that no employee will appear at the presentation in Shenzhen on Saturday. He declined to say whether a third party would promote the project on its behalf.\n",
      "\n",
      "Kushner&rsquo;s sister, Nicole Meyer,...\n",
      "\n",
      "The Kwok family, controlling shareholders in Sun Hung Kai Properties, will build a joint venture residential-commercial project on the banks of The River Thames in East London costing &pound;500 million (US$647 million) &ndash; the largest development by the Hong Kong company in the UK since Brexit.\n",
      "The investment comes as a rising number of Hong Kong-listed companies are snapping up properties in London amid investment yields that have been compressed by soaring asset prices in Hong Kong.\n",
      "Kwok...\n",
      "\n"
     ]
    },
    {
     "data": {
      "text/plain": [
       "[None,\n",
       " None,\n",
       " None,\n",
       " None,\n",
       " None,\n",
       " None,\n",
       " None,\n",
       " None,\n",
       " None,\n",
       " None,\n",
       " None,\n",
       " None,\n",
       " None,\n",
       " None,\n",
       " None,\n",
       " None,\n",
       " None,\n",
       " None,\n",
       " None,\n",
       " None]"
      ]
     },
     "execution_count": 2,
     "metadata": {},
     "output_type": "execute_result"
    }
   ],
   "source": [
    "import feedparser\n",
    "python_wiki_rss_url = \"feed://www.scmp.com/rss/43/feed\"\n",
    "feed = feedparser.parse( python_wiki_rss_url )\n",
    "print (feed.keys())\n",
    "print (feed[\"entries\"][0].keys())\n",
    "[print (feed[\"entries\"][i][\"summary_detail\"][\"value\"]+'\\n') for i in range(len(feed[\"entries\"]))]"
   ]
  },
  {
   "cell_type": "code",
   "execution_count": null,
   "metadata": {},
   "outputs": [],
   "source": []
  }
 ],
 "metadata": {
  "kernelspec": {
   "display_name": "Python 3",
   "language": "python",
   "name": "python3"
  },
  "language_info": {
   "codemirror_mode": {
    "name": "ipython",
    "version": 3
   },
   "file_extension": ".py",
   "mimetype": "text/x-python",
   "name": "python",
   "nbconvert_exporter": "python",
   "pygments_lexer": "ipython3",
   "version": "3.6.1"
  }
 },
 "nbformat": 4,
 "nbformat_minor": 2
}
